{
 "cells": [
  {
   "cell_type": "code",
   "execution_count": 6,
   "metadata": {},
   "outputs": [],
   "source": [
    "import sys\n",
    "from PyQt5 import QtCore, QtGui, QtWidgets\n",
    "from multiprocessing import freeze_support\n",
    "import traceback\n",
    "import test_ui\n",
    "from test_ui import Ui_MainWindow\n",
    "\n",
    "class MyApp(Ui_MainWindow):\n",
    "    def __init__(self, window):\n",
    "        Ui_MainWindow.__init__(self)\n",
    "        self.setupUi(window)\n",
    "        \n",
    "if __name__ == \"__main__\":\n",
    "    freeze_support()\n",
    "    try:\n",
    "        app = QtWidgets.QApplication(sys.argv)\n",
    "        window = QtWidgets.QMainWindow()\n",
    "        prog = MyApp(window)\n",
    "        window.show()\n",
    "        app.exec_()\n",
    "      \n",
    "    except:\n",
    "        var = traceback.format_exc()\n"
   ]
  }
 ],
 "metadata": {
  "kernelspec": {
   "display_name": "Python 3",
   "language": "python",
   "name": "python3"
  },
  "language_info": {
   "codemirror_mode": {
    "name": "ipython",
    "version": 3
   },
   "file_extension": ".py",
   "mimetype": "text/x-python",
   "name": "python",
   "nbconvert_exporter": "python",
   "pygments_lexer": "ipython3",
   "version": "3.5.4"
  }
 },
 "nbformat": 4,
 "nbformat_minor": 2
}
